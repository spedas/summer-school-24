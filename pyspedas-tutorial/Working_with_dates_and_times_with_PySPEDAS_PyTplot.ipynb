{
 "nbformat": 4,
 "nbformat_minor": 0,
 "metadata": {
  "colab": {
   "name": "Working with dates and times with PySPEDAS/PyTplot.ipynb",
   "provenance": [],
   "collapsed_sections": []
  },
  "kernelspec": {
   "name": "python3",
   "language": "python",
   "display_name": "Python 3 (ipykernel)"
  },
  "language_info": {
   "name": "python"
  }
 },
 "cells": [
  {
   "cell_type": "markdown",
   "source": [
    "# Working with dates and times with PySPEDAS/PyTplot\n",
    "\n",
    "**By Eric Grimes, UCLA - Earth, Planetary, and Space Sciences; egrimes(at)igpp.ucla.edu**\n",
    "\n",
    "This notebook includes examples of working with date/time values in PySPEDAS and PyTplot\n"
   ],
   "metadata": {
    "id": "dEaXLRwW_Q2G"
   }
  },
  {
   "cell_type": "markdown",
   "source": [
    "Time values in PyTplot variables are stored internally as datetime64 objects.\n",
    "However, the PyTplot time conversion routines assume that numerical timestamps\n",
    "are represented as Unix times, in units of seconds.  (The conversions to and from\n",
    "the internal datetime64 representation are performed automatically in the store_data and\n",
    "get_data routines.)\n",
    "\n",
    "https://en.wikipedia.org/wiki/Unix_time\n",
    "\n",
    "We have routines for working with times, including:\n",
    "\n",
    "`time_double`: convert a string to a unix time"
   ],
   "metadata": {
    "id": "SSMjbntj-E-k"
   }
  },
  {
   "metadata": {},
   "cell_type": "code",
   "outputs": [],
   "execution_count": null,
   "source": [
    "# These lines were needed for the summer school environment\n",
    "# import os\n",
    "# os.environ[\"SPEDAS_DATA_DIR\"] = \"/home/jovyan/scratch_space/pyspedas_data\"\n",
    "\n",
    "# This line is needed if you don't already have pyspedas installed (e.g. Google Colab)\n",
    "# You can comment it out if you already have a working pyspedas installation\n",
    "\n",
    "!pip install pyspedas\n"
   ]
  },
  {
   "cell_type": "code",
   "source": [
    "from pyspedas import time_double"
   ],
   "metadata": {
    "id": "xr0eQ82h9-PC",
    "ExecuteTime": {
     "end_time": "2024-05-07T04:19:36.300109Z",
     "start_time": "2024-05-07T04:19:35.106063Z"
    }
   },
   "outputs": [],
   "execution_count": 2
  },
  {
   "cell_type": "code",
   "source": [
    "time_double('2015-10-16/13:06')"
   ],
   "metadata": {
    "colab": {
     "base_uri": "https://localhost:8080/"
    },
    "id": "FemELSXC-WM4",
    "outputId": "2faeb565-2fc1-4d63-9313-58d4196a7567",
    "ExecuteTime": {
     "end_time": "2024-05-07T04:19:36.303983Z",
     "start_time": "2024-05-07T04:19:36.300809Z"
    }
   },
   "outputs": [
    {
     "data": {
      "text/plain": [
       "1445000760.0"
      ]
     },
     "execution_count": 3,
     "metadata": {},
     "output_type": "execute_result"
    }
   ],
   "execution_count": 3
  },
  {
   "cell_type": "markdown",
   "source": [
    "This also accepts a list of time values"
   ],
   "metadata": {
    "id": "JsbBVTja-jHg"
   }
  },
  {
   "cell_type": "code",
   "source": [
    "time_double(['2015-10-16/13:06', '2015-10-16/13:07:01'])"
   ],
   "metadata": {
    "colab": {
     "base_uri": "https://localhost:8080/"
    },
    "id": "K6jBUphN-gOI",
    "outputId": "a8e36cf6-b4d3-4997-b2bf-f6b0d1adca25",
    "ExecuteTime": {
     "end_time": "2024-05-07T04:19:36.306971Z",
     "start_time": "2024-05-07T04:19:36.304657Z"
    }
   },
   "outputs": [
    {
     "data": {
      "text/plain": [
       "[1445000760.0, 1445000821.0]"
      ]
     },
     "execution_count": 4,
     "metadata": {},
     "output_type": "execute_result"
    }
   ],
   "execution_count": 4
  },
  {
   "cell_type": "markdown",
   "source": [
    "The input format for the string is extremely flexible, e.g., "
   ],
   "metadata": {
    "id": "_LvmMQ5e-wFS"
   }
  },
  {
   "cell_type": "code",
   "source": [
    "time_double('Oct 16, 2015 at 13:06')"
   ],
   "metadata": {
    "colab": {
     "base_uri": "https://localhost:8080/"
    },
    "id": "JT_Y--tj-oac",
    "outputId": "3d9a1b2d-8a81-4443-88a5-a50a676ea26a",
    "ExecuteTime": {
     "end_time": "2024-05-07T04:19:36.310519Z",
     "start_time": "2024-05-07T04:19:36.308347Z"
    }
   },
   "outputs": [
    {
     "data": {
      "text/plain": [
       "1445000760.0"
      ]
     },
     "execution_count": 5,
     "metadata": {},
     "output_type": "execute_result"
    }
   ],
   "execution_count": 5
  },
  {
   "cell_type": "markdown",
   "source": [
    "To convert a unix time back to a string, use `time_string`"
   ],
   "metadata": {
    "id": "oYK_nmLc-77K"
   }
  },
  {
   "cell_type": "code",
   "source": [
    "from pyspedas import time_string"
   ],
   "metadata": {
    "id": "pBQtgO9--stB",
    "ExecuteTime": {
     "end_time": "2024-05-07T04:19:36.312788Z",
     "start_time": "2024-05-07T04:19:36.311177Z"
    }
   },
   "outputs": [],
   "execution_count": 6
  },
  {
   "cell_type": "code",
   "source": [
    "time_string(1445000760.0)"
   ],
   "metadata": {
    "colab": {
     "base_uri": "https://localhost:8080/",
     "height": 35
    },
    "id": "t_R9Pb--_CWb",
    "outputId": "95961c08-5e74-4ab5-a861-b2971838b6d7",
    "ExecuteTime": {
     "end_time": "2024-05-07T04:19:36.315145Z",
     "start_time": "2024-05-07T04:19:36.313342Z"
    }
   },
   "outputs": [
    {
     "data": {
      "text/plain": [
       "'2015-10-16 13:06:00.000000'"
      ]
     },
     "execution_count": 7,
     "metadata": {},
     "output_type": "execute_result"
    }
   ],
   "execution_count": 7
  },
  {
   "cell_type": "markdown",
   "source": [
    "This also accepts lists of times, e.g., "
   ],
   "metadata": {
    "id": "nQLRfx4B_FWb"
   }
  },
  {
   "cell_type": "code",
   "source": [
    "time_string([1445000760.0, 1445000821.0])"
   ],
   "metadata": {
    "colab": {
     "base_uri": "https://localhost:8080/"
    },
    "id": "oMUd79-s_EZz",
    "outputId": "1f390afb-07fd-46ca-af1e-b9b2b75b8897",
    "ExecuteTime": {
     "end_time": "2024-05-07T04:19:36.317600Z",
     "start_time": "2024-05-07T04:19:36.315732Z"
    }
   },
   "outputs": [
    {
     "data": {
      "text/plain": [
       "['2015-10-16 13:06:00.000000', '2015-10-16 13:07:01.000000']"
      ]
     },
     "execution_count": 8,
     "metadata": {},
     "output_type": "execute_result"
    }
   ],
   "execution_count": 8
  },
  {
   "cell_type": "markdown",
   "source": [
    "To change the format of the output string, use the `fmt` option, e.g., "
   ],
   "metadata": {
    "id": "DcBksXex_8lO"
   }
  },
  {
   "cell_type": "code",
   "source": [
    "time_string([1445000760.0, 1445000821.0], fmt='%Y-%m-%d/%H:%M:%S')"
   ],
   "metadata": {
    "colab": {
     "base_uri": "https://localhost:8080/"
    },
    "id": "GN52njLR_LVn",
    "outputId": "bb0d19b3-ac87-438f-fa93-3a57ebdf6390",
    "ExecuteTime": {
     "end_time": "2024-05-07T04:19:36.320031Z",
     "start_time": "2024-05-07T04:19:36.318210Z"
    }
   },
   "outputs": [
    {
     "data": {
      "text/plain": [
       "['2015-10-16/13:06:00', '2015-10-16/13:07:01']"
      ]
     },
     "execution_count": 9,
     "metadata": {},
     "output_type": "execute_result"
    }
   ],
   "execution_count": 9
  },
  {
   "cell_type": "markdown",
   "source": [
    "Please see the strftime cheatsheet at https://strftime.org for possible formats.\n",
    "(Supported formats may vary depending on the platform being used.)"
   ],
   "metadata": {
    "id": "x4figStTAU3H"
   }
  },
  {
   "cell_type": "code",
   "source": [
    "time_string([1445000760.0, 1445000821.0], fmt='%B %d, %Y at %H:%M')"
   ],
   "metadata": {
    "colab": {
     "base_uri": "https://localhost:8080/"
    },
    "id": "SuHD1KMhAGf3",
    "outputId": "c1165a11-faf0-457b-de35-a13c49fd0986",
    "ExecuteTime": {
     "end_time": "2024-05-07T04:19:36.322779Z",
     "start_time": "2024-05-07T04:19:36.320748Z"
    }
   },
   "outputs": [
    {
     "data": {
      "text/plain": [
       "['October 16, 2015 at 13:06', 'October 16, 2015 at 13:07']"
      ]
     },
     "execution_count": 10,
     "metadata": {},
     "output_type": "execute_result"
    }
   ],
   "execution_count": 10
  },
  {
   "cell_type": "markdown",
   "source": [
    "Finally, to convert to datetime objects, use `time_datetime`"
   ],
   "metadata": {
    "id": "UTWErnvtAwoJ"
   }
  },
  {
   "cell_type": "code",
   "source": [
    "from pyspedas import time_datetime"
   ],
   "metadata": {
    "id": "ZrR4deidArUJ",
    "ExecuteTime": {
     "end_time": "2024-05-07T04:19:36.324921Z",
     "start_time": "2024-05-07T04:19:36.323299Z"
    }
   },
   "outputs": [],
   "execution_count": 11
  },
  {
   "cell_type": "code",
   "source": [
    "time_datetime(1445000760.0)"
   ],
   "metadata": {
    "colab": {
     "base_uri": "https://localhost:8080/"
    },
    "id": "sPlVtxdLA_Za",
    "outputId": "07a17467-a27b-45c5-c1a7-a586ff7ec340",
    "ExecuteTime": {
     "end_time": "2024-05-07T04:19:36.327407Z",
     "start_time": "2024-05-07T04:19:36.325507Z"
    }
   },
   "outputs": [
    {
     "data": {
      "text/plain": [
       "datetime.datetime(2015, 10, 16, 13, 6, tzinfo=datetime.timezone.utc)"
      ]
     },
     "execution_count": 12,
     "metadata": {},
     "output_type": "execute_result"
    }
   ],
   "execution_count": 12
  },
  {
   "cell_type": "markdown",
   "source": [
    "Note that this routine also accepts strings"
   ],
   "metadata": {
    "id": "8-XotHv8BCza"
   }
  },
  {
   "cell_type": "code",
   "source": [
    "time_datetime('October 16, 2015 at 13:06')"
   ],
   "metadata": {
    "colab": {
     "base_uri": "https://localhost:8080/"
    },
    "id": "Nh_NUQQRBB2r",
    "outputId": "c3248e2b-6606-456b-e2db-2d021270a1c5",
    "ExecuteTime": {
     "end_time": "2024-05-07T04:19:36.330168Z",
     "start_time": "2024-05-07T04:19:36.328115Z"
    }
   },
   "outputs": [
    {
     "data": {
      "text/plain": [
       "datetime.datetime(2015, 10, 16, 13, 6, tzinfo=datetime.timezone.utc)"
      ]
     },
     "execution_count": 13,
     "metadata": {},
     "output_type": "execute_result"
    }
   ],
   "execution_count": 13
  },
  {
   "cell_type": "markdown",
   "source": [
    "as well as lists:"
   ],
   "metadata": {
    "id": "ecVeQzTfBQ4s"
   }
  },
  {
   "cell_type": "code",
   "source": [
    "time_datetime(['October 16, 2015 at 13:06', 'October 16, 2015 at 13:07'])"
   ],
   "metadata": {
    "colab": {
     "base_uri": "https://localhost:8080/"
    },
    "id": "fOQQZzefBIXk",
    "outputId": "8b5299b7-2eaf-4985-daff-e175ae2dce9f",
    "ExecuteTime": {
     "end_time": "2024-05-07T04:19:36.334346Z",
     "start_time": "2024-05-07T04:19:36.332239Z"
    }
   },
   "outputs": [
    {
     "data": {
      "text/plain": [
       "[datetime.datetime(2015, 10, 16, 13, 6, tzinfo=datetime.timezone.utc),\n",
       " datetime.datetime(2015, 10, 16, 13, 7, tzinfo=datetime.timezone.utc)]"
      ]
     },
     "execution_count": 14,
     "metadata": {},
     "output_type": "execute_result"
    }
   ],
   "execution_count": 14
  }
 ]
}
