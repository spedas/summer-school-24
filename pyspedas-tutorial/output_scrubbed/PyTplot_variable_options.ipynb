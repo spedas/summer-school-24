{
 "cells": [
  {
   "cell_type": "markdown",
   "metadata": {
    "id": "35nJdkrHbV5l"
   },
   "source": [
    "# PyTplot variable options\n",
    "\n",
    "This notebook shows how to set some of the available per-variable plot options in PyTplot"
   ]
  },
  {
   "cell_type": "code",
   "metadata": {},
   "source": [
    "import os\n",
    "os.environ[\"SPEDAS_DATA_DIR\"] = \"/home/jovyan/scratch_space/pyspedas_data\"\n"
   ],
   "outputs": [],
   "execution_count": null
  },
  {
   "cell_type": "code",
   "metadata": {
    "id": "blkXrGy4TToB"
   },
   "source": [
    "import pyspedas\n",
    "from pyspedas import tplot, options, tlimit"
   ],
   "outputs": [],
   "execution_count": null
  },
  {
   "cell_type": "code",
   "metadata": {
    "id": "sMcJy8YCTSCA"
   },
   "source": [
    "pyspedas.themis.state(probe='a', trange=['2023-03-24', '2023-03-25'])"
   ],
   "outputs": [],
   "execution_count": null
  },
  {
   "cell_type": "code",
   "metadata": {
    "id": "oHWSDM0aUUpo"
   },
   "source": [
    "panels = ['tha_pos_gse', 'tha_vel_gse']\n",
    "tplot(panels)"
   ],
   "outputs": [],
   "execution_count": null
  },
  {
   "cell_type": "markdown",
   "metadata": {
    "id": "rwn-B-QeTvDN"
   },
   "source": [
    "Change the colors for tha_vel_gse to all black. Since pyspedas is based on matplotlib, we can use the matplotlib single-letter color codes:\n",
    "\n",
    "'r' red\n",
    "\n",
    "'b' blue\n",
    "\n",
    "'g' green\n",
    "\n",
    "'y' yellow\n",
    "\n",
    "'c' cyan\n",
    "\n",
    "'m' magenta\n",
    "\n",
    "'k' black\n",
    "\n",
    "'w' white"
   ]
  },
  {
   "cell_type": "code",
   "metadata": {},
   "source": [
    "options('tha_vel_gse','color',['k','k','k'])\n",
    "tplot(panels)"
   ],
   "outputs": [],
   "execution_count": null
  },
  {
   "cell_type": "markdown",
   "metadata": {},
   "source": [
    "Set the colors back to blue, green, red.  Matplotlib recognizes the color names."
   ]
  },
  {
   "cell_type": "code",
   "metadata": {},
   "source": [
    "options('tha_vel_gse', 'color', ['blue', 'green', 'red'])\n",
    "tplot(panels)"
   ],
   "outputs": [],
   "execution_count": null
  },
  {
   "cell_type": "markdown",
   "metadata": {},
   "source": [
    "Change the legend labels on both panels to \"Index (GSE)\", \"Middle (GSE)\", \"Thumb (GSE)\" (in case you need to visualize with the right-hand-rule)"
   ]
  },
  {
   "cell_type": "code",
   "metadata": {},
   "source": [
    "options(panels, 'legend_names', ['Index (GSE)', 'Middle (GSE)', 'Thumb (GSE)'])\n",
    "tplot(panels)"
   ],
   "outputs": [],
   "execution_count": null
  },
  {
   "cell_type": "markdown",
   "metadata": {},
   "source": [
    "Change the line style to \"dotted\" for positions, and \"dashed\" for velocities"
   ]
  },
  {
   "cell_type": "code",
   "metadata": {},
   "source": [
    "options('tha_pos_gse', 'linestyle', 'dotted')\n",
    "options('tha_vel_gse', 'linestyle', 'dashed')\n",
    "tplot(panels)"
   ],
   "outputs": [],
   "execution_count": null
  },
  {
   "metadata": {},
   "cell_type": "markdown",
   "source": "The pyspedas tlimit() routine can zoom into a small time range, or zoom back out to the full range."
  },
  {
   "cell_type": "code",
   "metadata": {
    "colab": {
     "base_uri": "https://localhost:8080/",
     "height": 610
    },
    "id": "5zmADvlWTfP8",
    "outputId": "61033db6-d35d-4f77-cb7d-e0419b951eea"
   },
   "source": [
    "tlimit(['2023-03-24/12:00', '2023-03-24/15:00'])\n",
    "\n",
    "tplot(panels)"
   ],
   "outputs": [],
   "execution_count": null
  },
  {
   "cell_type": "markdown",
   "metadata": {
    "id": "URzTgYTWUNyv"
   },
   "source": [
    "Reset to the full time range with the `full` option"
   ]
  },
  {
   "cell_type": "code",
   "metadata": {
    "colab": {
     "base_uri": "https://localhost:8080/",
     "height": 608
    },
    "id": "V15B1hcWT9iq",
    "outputId": "958359cb-dfd5-437e-e7bd-f652b1dae998"
   },
   "source": [
    "tlimit(full=True)\n",
    "\n",
    "tplot(panels)"
   ],
   "outputs": [],
   "execution_count": null
  },
  {
   "cell_type": "markdown",
   "metadata": {
    "id": "tR1dRMhoUreE"
   },
   "source": "You can set the y-axis range with the `options` routine.  Let's load another, more interesting data set, for this example."
  },
  {
   "cell_type": "code",
   "metadata": {
    "colab": {
     "base_uri": "https://localhost:8080/",
     "height": 608
    },
    "id": "7cjhQHoSUaya",
    "outputId": "62039728-f0b5-4c37-b0af-740f2473ab12"
   },
   "source": [
    "pyspedas.themis.fgm(probe='a',trange=['2023-03-24', '2023-03-25'])\n",
    "tplot('tha_fgs_gse')\n"
   ],
   "outputs": [],
   "execution_count": null
  },
  {
   "metadata": {},
   "cell_type": "markdown",
   "source": "The high field values near perigee make it hard to see what's happening in the rest of the orbit.  Let's reduce the Y range to +/- 200 nT:"
  },
  {
   "metadata": {},
   "cell_type": "code",
   "source": [
    "options('tha_fgs_gse', 'yrange',[-200, 200])\n",
    "tplot('tha_fgs_gse')"
   ],
   "outputs": [],
   "execution_count": null
  },
  {
   "metadata": {},
   "cell_type": "code",
   "source": "",
   "outputs": [],
   "execution_count": null
  }
 ],
 "metadata": {
  "colab": {
   "collapsed_sections": [],
   "provenance": []
  },
  "kernelspec": {
   "display_name": "Python 3 (ipykernel)",
   "language": "python",
   "name": "python3"
  },
  "language_info": {
   "codemirror_mode": {
    "name": "ipython",
    "version": 3
   },
   "file_extension": ".py",
   "mimetype": "text/x-python",
   "name": "python",
   "nbconvert_exporter": "python",
   "pygments_lexer": "ipython3",
   "version": "3.9.6"
  }
 },
 "nbformat": 4,
 "nbformat_minor": 4
}
