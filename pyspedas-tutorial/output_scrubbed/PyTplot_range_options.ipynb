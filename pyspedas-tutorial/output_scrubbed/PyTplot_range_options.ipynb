{
 "nbformat": 4,
 "nbformat_minor": 0,
 "metadata": {
  "colab": {
   "provenance": [],
   "collapsed_sections": []
  },
  "kernelspec": {
   "name": "python3",
   "display_name": "Python 3"
  },
  "language_info": {
   "name": "python"
  }
 },
 "cells": [
  {
   "cell_type": "markdown",
   "source": [
    "# PyTplot range options\n",
    "\n",
    "This notebook shows how to set various range (x-axis, y-xaix, z-axis) range options in PyTplot"
   ],
   "metadata": {
    "id": "35nJdkrHbV5l"
   }
  },
  {
   "metadata": {},
   "cell_type": "code",
   "source": [
    "import os\n",
    "os.environ[\"SPEDAS_DATA_DIR\"] = \"/home/jovyan/scratch_space/pyspedas_data\"\n"
   ],
   "outputs": [],
   "execution_count": null
  },
  {
   "cell_type": "code",
   "source": [
    "import pyspedas\n",
    "from pyspedas import tplot, options, tlimit"
   ],
   "metadata": {
    "id": "blkXrGy4TToB"
   },
   "outputs": [],
   "execution_count": null
  },
  {
   "cell_type": "code",
   "source": "pyspedas.projects.mms.fpi(datatype='des-moms', trange=['2015-10-16', '2015-10-17'])",
   "metadata": {
    "id": "sMcJy8YCTSCA"
   },
   "outputs": [],
   "execution_count": null
  },
  {
   "cell_type": "code",
   "source": [
    "panels = ['mms1_des_energyspectr_omni_fast', 'mms1_des_bulkv_gse_fast', 'mms1_des_numberdensity_fast']"
   ],
   "metadata": {
    "id": "oHWSDM0aUUpo"
   },
   "outputs": [],
   "execution_count": null
  },
  {
   "cell_type": "markdown",
   "source": [
    "Zoom into a time range"
   ],
   "metadata": {
    "id": "rwn-B-QeTvDN"
   }
  },
  {
   "cell_type": "code",
   "source": [
    "tlimit(['2015-10-16/11:00', '2015-10-16/12:00'])\n",
    "\n",
    "tplot(panels)"
   ],
   "metadata": {
    "colab": {
     "base_uri": "https://localhost:8080/",
     "height": 610
    },
    "id": "5zmADvlWTfP8",
    "outputId": "61033db6-d35d-4f77-cb7d-e0419b951eea"
   },
   "outputs": [],
   "execution_count": null
  },
  {
   "cell_type": "markdown",
   "source": [
    "Reset to the full time range with the `full` option"
   ],
   "metadata": {
    "id": "URzTgYTWUNyv"
   }
  },
  {
   "cell_type": "code",
   "source": [
    "tlimit(full=True)\n",
    "\n",
    "tplot(panels)"
   ],
   "metadata": {
    "colab": {
     "base_uri": "https://localhost:8080/",
     "height": 608
    },
    "id": "V15B1hcWT9iq",
    "outputId": "958359cb-dfd5-437e-e7bd-f652b1dae998"
   },
   "outputs": [],
   "execution_count": null
  },
  {
   "cell_type": "markdown",
   "source": [
    "You can set the y-axis range with the `options` routine"
   ],
   "metadata": {
    "id": "tR1dRMhoUreE"
   }
  },
  {
   "cell_type": "code",
   "source": [
    "options(panels[1], 'yrange', [-400, 400])\n",
    "\n",
    "tplot(panels)"
   ],
   "metadata": {
    "colab": {
     "base_uri": "https://localhost:8080/",
     "height": 608
    },
    "id": "7cjhQHoSUaya",
    "outputId": "62039728-f0b5-4c37-b0af-740f2473ab12"
   },
   "outputs": [],
   "execution_count": null
  },
  {
   "cell_type": "markdown",
   "source": [
    "Set the y-axis range of multiple panels"
   ],
   "metadata": {
    "id": "aborVJgDVYXv"
   }
  },
  {
   "cell_type": "code",
   "source": [
    "options(panels[0], 'yrange', [20, 1e4])\n",
    "options(panels[1], 'yrange', [-300, 300])\n",
    "options(panels[2], 'yrange', [10, 100])\n",
    "\n",
    "tplot(panels)"
   ],
   "metadata": {
    "colab": {
     "base_uri": "https://localhost:8080/",
     "height": 614
    },
    "id": "JK0atWx7U6eQ",
    "outputId": "bfa23a39-a20c-4ba6-a5fd-67212c9f9b94"
   },
   "outputs": [],
   "execution_count": null
  },
  {
   "cell_type": "markdown",
   "source": [
    "Turn logarithmic scaling on / off"
   ],
   "metadata": {
    "id": "oMbO4JY7WrWs"
   }
  },
  {
   "cell_type": "code",
   "source": [
    "options(panels[0], 'ylog', False)\n",
    "options(panels[2], 'ylog', False)\n",
    "\n",
    "tplot(panels)"
   ],
   "metadata": {
    "colab": {
     "base_uri": "https://localhost:8080/",
     "height": 612
    },
    "id": "a06a7V7IVCV9",
    "outputId": "ff7e7e53-0214-4f15-9338-fabf443448ae"
   },
   "outputs": [],
   "execution_count": null
  },
  {
   "cell_type": "markdown",
   "source": [
    "Set the spectrogram color bar ranges using the `options` routine"
   ],
   "metadata": {
    "id": "3RycQgODXCsC"
   }
  },
  {
   "cell_type": "code",
   "source": [
    "options(panels[0], 'zrange', [1e5, 1e9])\n",
    "options(panels[0], 'zlog', False)\n",
    "\n",
    "tplot(panels)"
   ],
   "metadata": {
    "colab": {
     "base_uri": "https://localhost:8080/",
     "height": 619
    },
    "id": "eDdCHImiW1l1",
    "outputId": "0bbf1f59-6252-4fa0-e81e-b20810e4440f"
   },
   "outputs": [],
   "execution_count": null
  },
  {
   "cell_type": "code",
   "source": [],
   "metadata": {
    "id": "fze9MiL3XanV"
   },
   "outputs": [],
   "execution_count": null
  }
 ]
}
