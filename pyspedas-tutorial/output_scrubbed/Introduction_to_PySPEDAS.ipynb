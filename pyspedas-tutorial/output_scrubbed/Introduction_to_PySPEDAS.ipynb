{
 "cells": [
  {
   "cell_type": "markdown",
   "metadata": {
    "id": "nP-sacPgp0Gy"
   },
   "source": [
    "# Introduction to PySPEDAS\n",
    "\n",
    "**By Jim Lewis, Berkeley Space Sciences Lab - jwl@ssl.berkeley.edu**\n",
    "\n",
    "- PySPEDAS: https://pyspedas.readthedocs.io/\n",
    "- PyTplot: https://pyspedas.readthedocs.io/en/matplotlib-backend/\n",
    "\n",
    "\n",
    "A little history: \n",
    "- `tplot` started as an IDL project in 1995, by Davin Larson, and is the core of SPEDAS (and now PySPEDAS)\n",
    "- in 2017, some developers on the MAVEN team created an initial Python version, using Qt as a back-end for creating figures\n",
    "- in late 2021, development began on a `matplotlib` version, which is what we're using in this notebook\n"
   ]
  },
  {
   "metadata": {},
   "cell_type": "markdown",
   "source": "We'll install a specific matplotlib version, to address a version conflict in the heliocloud environment."
  },
  {
   "metadata": {},
   "cell_type": "code",
   "outputs": [],
   "execution_count": null,
   "source": "!pip install matplotlib==3.6.2"
  },
  {
   "cell_type": "markdown",
   "metadata": {},
   "source": [
    "We have preloaded the data we'll be using with PySPEDAS during PyHC Summer School, to avoid overloading the various data servers we would otherwise need to contact.  We'll set the SPEDAS_DATA_DIR environment variable to the data cache directory."
   ]
  },
  {
   "cell_type": "code",
   "metadata": {},
   "source": [
    "import os\n",
    "os.environ[\"SPEDAS_DATA_DIR\"] = \"/home/jovyan/scratch_space/pyspedas_data\"\n"
   ],
   "outputs": [],
   "execution_count": null
  },
  {
   "cell_type": "markdown",
   "metadata": {},
   "source": [
    "### Example 1: A minimal PySPEDAS example ###\n",
    "\n",
    "We'll import the top level pyspedas and pyspedas modules.  We'll also import a few frequently-used tools (like tplot) to avoid repetition."
   ]
  },
  {
   "cell_type": "code",
   "metadata": {},
   "source": [
    "import pyspedas\n",
    "import pyspedas\n",
    "from pyspedas import tplot"
   ],
   "outputs": [],
   "execution_count": null
  },
  {
   "cell_type": "markdown",
   "metadata": {},
   "source": [
    "We'll set a time range corresponding to the date of the event we're studying."
   ]
  },
  {
   "cell_type": "code",
   "metadata": {
    "id": "ablkBhTuLPbv"
   },
   "source": [
    "trange = ['2023-03-24', '2023-03-25']"
   ],
   "outputs": [],
   "execution_count": null
  },
  {
   "cell_type": "markdown",
   "metadata": {
    "id": "SFmFng0z0i26"
   },
   "source": [
    "Now we'll load some THEMIS-A Fluxgate Magnetometer (FGM) data and plot it."
   ]
  },
  {
   "cell_type": "code",
   "metadata": {
    "colab": {
     "base_uri": "https://localhost:8080/"
    },
    "id": "c057pvX-gEH0",
    "outputId": "eca6ccf6-7c67-4d4a-e233-71402515eef3"
   },
   "source": [
    "fgm_vars = pyspedas.themis.fgm(probe='a',trange=trange)\n",
    "print(fgm_vars)\n",
    "tplot('tha_fgs_gse')"
   ],
   "outputs": [],
   "execution_count": null
  },
  {
   "cell_type": "markdown",
   "metadata": {},
   "source": [
    "A few things to note about this example:\n",
    "\n",
    "Many of the PySPEDAS load routines follow the naming convention pyspedas.mission.instrument.\n",
    "\n",
    "Parameters to the load routines are fairly standardized, and usually have sensible defaults.\n",
    "In this case, we got all the relevant variables (including several choices of time resolution and coordinate systems) from the THEMIS-A L2 FGM data set.\n",
    "\n",
    "Most load routines return a list of the tplot variables loaded.\n",
    "\n",
    "We didn't have to set any axis titles, tick mark spacing, data ranges, or legends for the plot!\n",
    "Many of the plot options are taken from metadata in the underlying data files; other attributes are initialized with reasonable defaults."
   ]
  },
  {
   "cell_type": "markdown",
   "metadata": {},
   "source": [
    "Tplot variables are the main data structure in PySPEDAS.  A tplot variable is essentially a container for timestamps, data arrays, and metadata (including plot options).  The underlying data structures are mapped to strings, and it is actually the strings or lists of strings that are passed around between PySPEDAS tools.\n",
    "\n",
    "Let's take a closer look at some of the tplot variables produced by this load routine call.\n",
    "\n",
    "We can see a list of loaded variables with the routine pyspedas.tplot_names():"
   ]
  },
  {
   "cell_type": "code",
   "metadata": {},
   "source": "pyspedas.tplot_names()",
   "outputs": [],
   "execution_count": null
  },
  {
   "cell_type": "markdown",
   "metadata": {},
   "source": [
    "To get access to the underlying timestamp or data arrays, or the metadata dictionary, \n",
    "we can use pyspedas.get_data().\n",
    "\n",
    "pyspedas.time_string() is useful for generating human-readable timestamps."
   ]
  },
  {
   "cell_type": "code",
   "metadata": {},
   "source": [
    "from pyspedas import get_data, time_string\n",
    "\n",
    "# By default, get_data returns a tuple with named fields 'times', 'y', \n",
    "# and possibly additional fields for spectrograms or higher dimensional data arrays.\n",
    "fgs_dat = get_data('tha_fgs_gse')\n",
    "print(time_string(fgs_dat.times[0:3]))\n",
    "print(fgs_dat.y[0:3])\n",
    "\n",
    "# get_data can also return a dictionary containing the variable's metadata, plot options, etc.\n",
    "fgs_md = get_data('tha_fgs_gse', metadata=True)\n",
    "print(fgs_md.keys())\n",
    "print(fgs_md['plot_options']['yaxis_opt'])"
   ],
   "outputs": [],
   "execution_count": null
  },
  {
   "cell_type": "markdown",
   "metadata": {
    "id": "Sr69rMo4Svex"
   },
   "source": [
    "To find the supported load routines and keywords, see our documentation: https://pyspedas.readthedocs.io/\n",
    "\n",
    "You can also see the supported options by calling `help` on the load routine you're interested in"
   ]
  },
  {
   "cell_type": "code",
   "metadata": {
    "colab": {
     "base_uri": "https://localhost:8080/"
    },
    "id": "oB2yIwdSSUdN",
    "outputId": "4b02e9b4-8987-4383-9a0c-c9c2c3ecac0f"
   },
   "source": [
    "help(pyspedas.themis.fgm)"
   ],
   "outputs": [],
   "execution_count": null
  },
  {
   "cell_type": "markdown",
   "metadata": {},
   "source": [
    "# THEMIS ESA (Electrostatic Analyzer) data\n",
    "\n",
    "Now we'll load some THEMIS-A data from the ESA instrument.   This is a good example of a spectrogram plot."
   ]
  },
  {
   "cell_type": "code",
   "metadata": {},
   "source": [
    "esa_vars = pyspedas.themis.esa(probe='a', trange=trange)\n",
    "print(esa_vars)\n",
    "\n",
    "# PEEF = ESA fast survey electrons, PEIF = ESA fast survey ions\n",
    "tplot(['tha_peef_en_eflux','tha_peef_velocity_dsl','tha_peif_en_eflux', 'tha_peif_velocity_dsl'])"
   ],
   "outputs": [],
   "execution_count": null
  },
  {
   "cell_type": "markdown",
   "metadata": {},
   "source": [
    "Let's take a look at one of the spectrogram variables, 'tha_peif_en_eflux'."
   ]
  },
  {
   "cell_type": "code",
   "metadata": {},
   "source": [
    "import numpy as np\n",
    "esa_eflux_data = get_data('tha_peif_en_eflux')\n",
    "print(\"Timestamps:\")\n",
    "print(pyspedas.time_string(esa_eflux_data.times[0:3]))\n",
    "print(\"First data value(s):\")\n",
    "print(esa_eflux_data.y[0,:])\n",
    "print(\"First v values(s):\")\n",
    "print(esa_eflux_data.v[0,:])\n",
    "print(\"Shape of times array:\",np.shape(esa_eflux_data.times))\n",
    "print(\"Shape of data values array:\", np.shape(esa_eflux_data.y))\n",
    "print(\"Shape of v (bin values) array:\",np.shape(esa_eflux_data.v))\n"
   ],
   "outputs": [],
   "execution_count": null
  },
  {
   "cell_type": "markdown",
   "metadata": {},
   "source": [
    "There are 746 timestamps.  Each data point has 32 energy bins, with the bin values (in eV) along the Y axis. \n",
    " \n",
    "The data values in each energy bin are mapped to colors (what we call the \"z-axis\" for a spectogram variable).  \n",
    "\n",
    "The tuple returned by get_data for this variable has an extra component, 'v', representing the bin values along the Y axis. Note that v also has shape 746 x 32.  The bin values are allowed to vary over time, and PySPEDAS will render them correctly as long as the metadata in the underlying data file follows the standard conventions."
   ]
  },
  {
   "cell_type": "markdown",
   "metadata": {},
   "source": [
    "# Orbit data for the ERG (Arase) satellite\n",
    "\n",
    "Let's look at a different mission, JAXA's Arase probe.   We'll load and plot the orbit data\n",
    "for the time range of interest."
   ]
  },
  {
   "cell_type": "code",
   "metadata": {},
   "source": [
    "erg_orb_vars = pyspedas.erg.orb(trange=trange)\n",
    "tplot('erg_orb_l2_pos_gse')"
   ],
   "outputs": [],
   "execution_count": null
  },
  {
   "cell_type": "code",
   "metadata": {},
   "source": [
    "erg_orb_vars\n"
   ],
   "outputs": [],
   "execution_count": null
  },
  {
   "cell_type": "markdown",
   "metadata": {},
   "source": [
    "# OMNIWeb Solar Wind parameters\n",
    "\n",
    "The OMNIWeb data set includes various solar wind and interplanetary magnetic field measurements that are especially useful as inputs to models of Earth's magnetic field, and as geomagnetic activity indexes.   Here we'll load some OMNI data for the date we're studying, and plot the proton density, flow speed, and dynamic pressure."
   ]
  },
  {
   "cell_type": "code",
   "metadata": {},
   "source": [
    "pyspedas.omni.data(trange=trange)\n",
    "tplot(['proton_density', 'flow_speed', 'Pressure'])"
   ],
   "outputs": [],
   "execution_count": null
  },
  {
   "cell_type": "markdown",
   "metadata": {},
   "source": [
    "# Ground Magnetometer Data #"
   ]
  },
  {
   "cell_type": "markdown",
   "metadata": {},
   "source": [
    "PySPEDAS can load magnetometer data from several networks of ground stations in North America, Europe, Antarctica, and other locations.  Most of them can be accessed via the THEMIS GMAG load routine.   "
   ]
  },
  {
   "cell_type": "code",
   "metadata": {},
   "source": [
    "gmag_vars = pyspedas.themis.gmag(sites=['fsmi', 'fykn', 'atha'], trange=trange)\n",
    "tplot(gmag_vars)"
   ],
   "outputs": [],
   "execution_count": null
  },
  {
   "cell_type": "markdown",
   "metadata": {},
   "source": [
    "Let's take a closer look at the FSMI data (Fort Smith, Northwest Territories, Canada).\n",
    "The strength of the ambient field makes it hard to see small variations.  PyTplot has a \"subtract_median\" tool that will help visualize the variations."
   ]
  },
  {
   "cell_type": "code",
   "metadata": {},
   "source": [
    "pyspedas.subtract_median('thg_mag_fsmi',newname='thg_mag_fsmi_subtract_median')\n",
    "tplot('thg_mag_fsmi_subtract_median')"
   ],
   "outputs": [],
   "execution_count": null
  },
  {
   "cell_type": "markdown",
   "metadata": {},
   "source": []
  },
  {
   "cell_type": "code",
   "metadata": {},
   "source": [],
   "outputs": [],
   "execution_count": null
  }
 ],
 "metadata": {
  "colab": {
   "collapsed_sections": [],
   "name": "PySPEDAS/PyTplot for Solar Physicists.ipynb",
   "provenance": []
  },
  "kernelspec": {
   "display_name": "Python 3 (ipykernel)",
   "language": "python",
   "name": "python3"
  },
  "language_info": {
   "codemirror_mode": {
    "name": "ipython",
    "version": 3
   },
   "file_extension": ".py",
   "mimetype": "text/x-python",
   "name": "python",
   "nbconvert_exporter": "python",
   "pygments_lexer": "ipython3",
   "version": "3.9.6"
  }
 },
 "nbformat": 4,
 "nbformat_minor": 4
}
