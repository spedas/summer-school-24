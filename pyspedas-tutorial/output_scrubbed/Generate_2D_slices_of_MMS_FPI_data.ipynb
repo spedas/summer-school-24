{
 "nbformat": 4,
 "nbformat_minor": 0,
 "metadata": {
  "colab": {
   "name": "MMS 2D slices.ipynb",
   "provenance": [],
   "collapsed_sections": []
  },
  "kernelspec": {
   "name": "python3",
   "display_name": "Python 3 (ipykernel)",
   "language": "python"
  },
  "language_info": {
   "name": "python"
  }
 },
 "cells": [
  {
   "cell_type": "markdown",
   "source": "# Fast ion flows observed by the MMS FPI during a dayside reconnection event on March 24, 2023",
   "metadata": {
    "id": "nFmIOsPO-AIx"
   }
  },
  {
   "metadata": {},
   "cell_type": "markdown",
   "source": [
    "This notebook shows how to create 2D slices of 3D particle data from the MMS Fast Plasma Investigation (FPI) instrument using PySPEDAS\n",
    "\n",
    "Note: these routines are still being beta tested; please report potential issues to Jim Lewis, jwl@ssl.berkeley.edu"
   ]
  },
  {
   "metadata": {},
   "cell_type": "markdown",
   "source": "Use the previously cached MMS data by setting SPEDAS_DATA_DIR"
  },
  {
   "metadata": {},
   "cell_type": "code",
   "source": [
    "import os\n",
    "os.environ[\"SPEDAS_DATA_DIR\"] = \"/home/jovyan/scratch_space/pyspedas_data\"\n"
   ],
   "outputs": [],
   "execution_count": null
  },
  {
   "metadata": {},
   "cell_type": "code",
   "outputs": [],
   "execution_count": null,
   "source": [
    "import pyspedas\n",
    "from pyspedas.projects.mms.particles.mms_part_slice2d import mms_part_slice2d"
   ]
  },
  {
   "metadata": {},
   "cell_type": "markdown",
   "source": "This time was selected to coincide with magnetic field and ion flow reversals observed in MMS summary plot data."
  },
  {
   "cell_type": "code",
   "source": "time = '2023-03-24/07:07:33'",
   "metadata": {
    "id": "kp_bcSrYtwR5"
   },
   "outputs": [],
   "execution_count": null
  },
  {
   "cell_type": "markdown",
   "source": [
    "## FPI ions with geometric interpolation\n",
    "\n",
    "The data are rotated such that the x axis is parallel to B field and the bulk velocity defines the x-y plane, and plotted using geometric interpolation (each point on the plot is given the value of the bin it intersects)"
   ],
   "metadata": {
    "id": "EoGVv_lZ-ROs"
   }
  },
  {
   "cell_type": "code",
   "source": "mms_part_slice2d(time=time, instrument='fpi', data_rate='brst', species='i', rotation='bv', erange=[0, 20000])",
   "metadata": {
    "colab": {
     "base_uri": "https://localhost:8080/",
     "height": 1000
    },
    "id": "GSe_TIihuRbk",
    "outputId": "50cdc385-b98b-47d4-9894-3a20a09a96a0"
   },
   "outputs": [],
   "execution_count": null
  },
  {
   "cell_type": "markdown",
   "source": [
    "Return the slice data structure (instead of plotting) by setting the `return_slice` keyword to `True`"
   ],
   "metadata": {
    "id": "kgwe7HWyqEPL"
   }
  },
  {
   "cell_type": "code",
   "source": "the_slice = mms_part_slice2d(return_slice=True, time=time, instrument='fpi', species='i', rotation='bv', erange=[0, 20000])",
   "metadata": {
    "colab": {
     "base_uri": "https://localhost:8080/"
    },
    "id": "oGwQ2sRBqJr0",
    "outputId": "51473df8-906f-4aea-a7fb-db9f34edbfa2"
   },
   "outputs": [],
   "execution_count": null
  },
  {
   "cell_type": "markdown",
   "source": [
    "The slice is stored as a dictionary:"
   ],
   "metadata": {
    "id": "bTaAayTkqcLN"
   }
  },
  {
   "cell_type": "code",
   "source": [
    "the_slice.keys()"
   ],
   "metadata": {
    "colab": {
     "base_uri": "https://localhost:8080/"
    },
    "id": "pmvtBaekqiIU",
    "outputId": "1081b0ae-bba9-4cfa-d6af-57764bffcff6"
   },
   "outputs": [],
   "execution_count": null
  },
  {
   "cell_type": "markdown",
   "source": [
    "You can also create 1D cuts through the 2D slice:"
   ],
   "metadata": {
    "id": "aBWrAag8qmYX"
   }
  },
  {
   "cell_type": "code",
   "source": [
    "from pyspedas.particles.spd_slice2d.slice1d_plot import plot\n",
    "\n",
    "plot(the_slice, 'x', [-100, 100])  # summed from Vv=[-100, 100]"
   ],
   "metadata": {
    "colab": {
     "base_uri": "https://localhost:8080/",
     "height": 284
    },
    "id": "ZgQfhlK9qpvF",
    "outputId": "ae66a6ed-d59a-4579-b20d-6bb210dd45a8"
   },
   "outputs": [],
   "execution_count": null
  },
  {
   "cell_type": "markdown",
   "source": [
    "## FPI ions with 2D interpolation\n",
    "\n",
    "The data are rotated such that the x axis is parallel to B field and the bulk velocity defines the x-y plane, and plotted using 2D interpolation (data points within the specified theta or z-axis range are projected onto the slice plane and linearly interpolated onto a regular 2D grid). The default theta range is [-20, +20]"
   ],
   "metadata": {
    "id": "mQ1McrYV-tdR"
   }
  },
  {
   "cell_type": "code",
   "source": "mms_part_slice2d(interpolation='2d', time=time, instrument='fpi', data_rate='brst', species='i', rotation='bv', erange=[0, 20000])",
   "metadata": {
    "colab": {
     "base_uri": "https://localhost:8080/",
     "height": 1000
    },
    "id": "l8yijdFw-sXw",
    "outputId": "de8e159b-18fb-41ed-8a35-f90a895e1ce6"
   },
   "outputs": [],
   "execution_count": null
  },
  {
   "cell_type": "markdown",
   "source": [
    "To see the other options, run help() on mms_part_slice2d:"
   ],
   "metadata": {
    "id": "Xk-bqUQhszYu"
   }
  },
  {
   "cell_type": "code",
   "source": [
    "help(mms_part_slice2d)"
   ],
   "metadata": {
    "colab": {
     "base_uri": "https://localhost:8080/"
    },
    "id": "jr-HuPijpuVW",
    "outputId": "6deccaa1-176a-45e0-a6c4-59ea989a2954"
   },
   "outputs": [],
   "execution_count": null
  },
  {
   "metadata": {},
   "cell_type": "markdown",
   "source": "We'll look at the same slice, this time with the 'be' rotation specified"
  },
  {
   "metadata": {},
   "cell_type": "code",
   "source": "mms_part_slice2d(interpolation='2d', time='2023-03-24 07:07:33', instrument='fpi', species='i',rotation='be', data_rate='brst', erange=[0, 20000])\n",
   "outputs": [],
   "execution_count": null
  },
  {
   "metadata": {},
   "cell_type": "markdown",
   "source": "The next slice is taken about 22 seconds later. By this time, the bulk velocity has decreased, and the beam structure seems less defined.  "
  },
  {
   "metadata": {},
   "cell_type": "code",
   "source": "mms_part_slice2d(interpolation='2d', time='2023-03-24 07:07:55', instrument='fpi', species='i',rotation='bv', data_rate='brst', erange=[0, 20000])\n",
   "outputs": [],
   "execution_count": null
  }
 ]
}
