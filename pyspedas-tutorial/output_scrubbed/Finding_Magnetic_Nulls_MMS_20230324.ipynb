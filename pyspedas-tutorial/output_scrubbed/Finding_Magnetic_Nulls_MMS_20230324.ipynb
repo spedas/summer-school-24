{
 "cells": [
  {
   "cell_type": "markdown",
   "source": [
    "## Finding Magnetic Nulls near a reconnection event observed by MMS\n",
    "\n",
    "This notebook will show how to use PySPEDAS to locate and characterize magnetic null points.\n",
    "\n",
    "During a dayside magneopause crossing on 2023-03-24, MMS observed the signature of a reconnection event: the magnetic field direction reversed (so, nearly antiparallel field lines in close proximity), simultaneous with fast (~400 km/sec) particle flows that also reversed direction during the event.\n",
    "\n",
    "Magnetic null points are an important aspect of the reconnection process.  Since MMS has four probes taking simultaneous magnetic field measurements in a tight, approximately tetrahedral formation, we have enough information to model the magnetic field in 3 dimensions in the vicinity of the MMS constellation.\n",
    "\n",
    "The method here is known as the First Order Taylor Expansion (FOTE) method.   By using the MMS field measurements, we can estimate the B field vector at the center of the tetrahedron. We can also estimate the 3x3 Jacobian matrix, capturing the partial derivative of the vector components Bx, By, and Bz with respect to the local X, Y, and Z coordinates.   \n",
    "\n",
    "Together, these two estimates can be used to solve for a location where Bx = By = Bz: that is, a magnetic null point.   As long as the field measurements aren't identical between probes, a null can be found.  Whether that finding is credible or not depends on how well the assumption of linear field gradients holds over the distence to the null, and on some other figures of merit that can be derived from the trace and eigenvalues of the Jacobean matrix."
   ],
   "metadata": {
    "collapsed": false
   },
   "id": "d29640983088dcd9"
  },
  {
   "metadata": {},
   "cell_type": "markdown",
   "source": "We'll start by importing some pyspedas and pyspedas tools.",
   "id": "efcb3a2b768a529d"
  },
  {
   "metadata": {},
   "cell_type": "code",
   "outputs": [],
   "execution_count": null,
   "source": [
    "import os\n",
    "os.environ[\"SPEDAS_DATA_DIR\"] = \"/home/jovyan/scratch_space/pyspedas_data\"\n"
   ],
   "id": "356973ce82eb5eb"
  },
  {
   "metadata": {},
   "cell_type": "code",
   "outputs": [],
   "execution_count": null,
   "source": [
    "# Here are some imports we'll need below.\n",
    "import pyspedas\n",
    "import pyspedas\n",
    "\n",
    "# We'll import a few pyspedas routines, to simplify things below\n",
    "from pyspedas import timespan, highlight, time_double, options, tplot, tnames\n"
   ],
   "id": "5ac44f58faf1c5cb"
  },
  {
   "metadata": {},
   "cell_type": "markdown",
   "source": "We need to know the MMS spacecraft locations, so we'll get them with mms_load_state()",
   "id": "5cb773d92832edf8"
  },
  {
   "metadata": {},
   "cell_type": "code",
   "outputs": [],
   "execution_count": null,
   "source": [
    "state_vars = pyspedas.projects.mms.mms_load_state(trange=['2023-03-24/07:00','2023-03-24/08:00'],probe=['1','2','3','4'])\n",
    "\n",
    "# For FGM, we'll use the survey data for the overview plot, and burst data for the\n",
    "# null analysis.\n",
    "\n",
    "fgm_vars = pyspedas.projects.mms.fgm(trange=['2023-03-24/07:00','2023-03-24/08:00'],probe=['1','2','3','4'],data_rate='brst',time_clip=True)\n",
    "fgm_vars = pyspedas.projects.mms.fgm(trange=['2023-03-24/07:00','2023-03-24/08:00'],probe=['1'],data_rate='srvy',time_clip=True)\n",
    "\n",
    "fpi_vars = pyspedas.projects.mms.mms_load_fpi(trange=['2023-03-24/07:00','2023-03-24/08:00'],probe=['1','2','3','4'],time_clip=True,data_rate='fast')\n",
    "\n",
    "# Reset time limits from previous examples\n",
    "timespan('2023-03-24/07:00',60.0,'minutes')\n",
    "\n",
    "pyspedas.tplot_names()"
   ],
   "id": "f5601b551595f722"
  },
  {
   "cell_type": "markdown",
   "source": [
    "The MMS ephemeris data is in ECI coordinates.  We'll be working in GSE, so we need to transform the loaded variables."
   ],
   "metadata": {
    "collapsed": false
   },
   "id": "718e645fe90ca9b6"
  },
  {
   "cell_type": "code",
   "source": [
    "# To use the MMS qcotrans routine, the quaternions representing the transforms must be\n",
    "# loaded from the MEC dataset.\n",
    "pyspedas.projects.mms.mec(trange=['2023-03-24/07:00','2023-03-24/08:00'], probe=['1','2','3','4'])\n",
    "\n",
    "for i in ('1','2','3','4'): \n",
    "    pyspedas.projects.mms.mms_qcotrans('mms'+i+'_defeph_pos','mms'+i+'_defeph_pos_gse',in_coord='eci',out_coord='gse')\n",
    "    pyspedas.projects.mms.mms_qcotrans('mms'+i+'_defeph_vel','mms'+i+'_defeph_vel_gse',in_coord='eci',out_coord='gse')"
   ],
   "metadata": {
    "collapsed": false
   },
   "id": "9167c068ab52a1a6",
   "outputs": [],
   "execution_count": null
  },
  {
   "cell_type": "markdown",
   "source": "We'll generate a summary plot of the data loaded so far:",
   "metadata": {
    "collapsed": false
   },
   "id": "a115976ad38f2a62"
  },
  {
   "cell_type": "code",
   "source": [
    "\n",
    "timespan('2023-03-24/07:00',10,'minutes')\n",
    "options('mms1_des_numberdensity_fast','ylog',False)\n",
    "fig1_vars=['mms1_defeph_pos_gse','mms1_defeph_vel_gse','mms1_fgm_b_gse_srvy_l2','mms1_dis_bulkv_dbcs_fast','mms1_des_numberdensity_fast','mms1_des_energyspectr_omni_fast','mms1_dis_energyspectr_omni_fast']\n",
    "\n",
    "tplot(fig1_vars)"
   ],
   "metadata": {
    "collapsed": false
   },
   "id": "85857c807f1e6e91",
   "outputs": [],
   "execution_count": null
  },
  {
   "metadata": {},
   "cell_type": "markdown",
   "source": "Let's get a sense of the probe separations and orbital velocity during this time:",
   "id": "3aceb556706eb0a3"
  },
  {
   "metadata": {},
   "cell_type": "code",
   "source": [
    "from pyspedas import subtract\n",
    "from pyspedas import tvectot\n",
    "\n",
    "subtract('mms1_defeph_pos_gse','mms2_defeph_pos_gse',newname='mms1_mms2_dist')\n",
    "subtract('mms1_defeph_pos_gse','mms3_defeph_pos_gse',newname='mms1_mms3_dist')\n",
    "subtract('mms1_defeph_pos_gse','mms4_defeph_pos_gse',newname='mms1_mms4_dist')\n",
    "subtract('mms2_defeph_pos_gse','mms3_defeph_pos_gse',newname='mms2_mms3_dist')\n",
    "tvectot(['mms1_mms2_dist','mms1_mms3_dist','mms1_mms4_dist','mms2_mms3_dist','mms1_defeph_vel_gse'])\n",
    "tplot(['mms1_mms2_dist_tot','mms1_mms3_dist_tot','mms1_mms4_dist_tot', 'mms2_mms3_dist_tot','mms1_defeph_vel_gse_tot'])\n",
    "\n"
   ],
   "id": "6320dccc1e694cee",
   "outputs": [],
   "execution_count": null
  },
  {
   "metadata": {},
   "cell_type": "markdown",
   "source": "So for future reference, the tetrahedron size is on the order of 75 km, and the constellation is moving at about 3.45 km/sec.",
   "id": "b378a37058c48a4b"
  },
  {
   "cell_type": "markdown",
   "source": [
    "Now we will find the magnetic nulls during this event, and examine the field toplology for a couple of them:"
   ],
   "metadata": {
    "collapsed": false
   },
   "id": "287a1666df2ab711"
  },
  {
   "cell_type": "code",
   "source": [
    "mms_positions = ['mms1_defeph_pos_gse','mms2_defeph_pos_gse','mms3_defeph_pos_gse','mms4_defeph_pos_gse']\n",
    "mms_fields = ['mms1_fgm_b_gse_brst_l2','mms2_fgm_b_gse_brst_l2','mms3_fgm_b_gse_brst_l2','mms4_fgm_b_gse_brst_l2']\n",
    "\n",
    "null_vars = pyspedas.find_magnetic_nulls_fote(fields=mms_fields, positions=mms_positions, smooth_fields=True)\n",
    "\n",
    "pyspedas.tplot_names()\n",
    "\n",
    "print(null_vars)\n"
   ],
   "metadata": {
    "collapsed": false
   },
   "id": "7eb199a88d948c15",
   "outputs": [],
   "execution_count": null
  },
  {
   "metadata": {},
   "cell_type": "markdown",
   "source": [
    "The variables returned by find_magnetic_nulls_fote are:\n",
    "\n",
    "null_pos: The position of reported null points, in the same coordinate system as the position inputs (here, GSE)\n",
    "\n",
    "null_bary_dist:  The scalar distance between the null and the consteallation barycenter\n",
    "\n",
    "null_bary_dist_types:  A composite tplot variable with a scatter plot of null topology types, superimposed on the null_bary_dist values\n",
    "\n",
    "null_sc_distances: The scalar distances between the null point and each of the four spacecraft.\n",
    "\n",
    "null_fom:  Two scalar figures of merit, eta and xi, representing the confidence in the null detection and null topology classification\n",
    "\n",
    "null_typecode: Integer type codes representing the topological classification of the null points.\n",
    "\n",
    "max_reconstruction_error:  The maximum difference, in nT, between the spacecraft magnetic field measurements, and the Taylor expansion of the field using the calculated field value and field gradients at the constellation barycenter.\n",
    "\n",
    "It's hard to make sense of the plots of magnetic null results on timescales longer than a few seconds, so we'll want to zoom in on some shorter time intervals.,\n",
    "\n",
    "First, we'll look at 60 seconds worth of data starting at 07:01:\n"
   ],
   "id": "3d536405be34ec8a"
  },
  {
   "metadata": {},
   "cell_type": "code",
   "source": [
    "timespan('2023-03-24/07:01:00',60,'seconds')\n",
    "options('null_fom','yrange',[0.0,0.5])\n",
    "tplot(['mms1_fgm_b_gse_brst_l2','mms2_fgm_b_gse_brst_l2','mms3_fgm_b_gse_brst_l2','mms4_fgm_b_gse_brst_l2','null_sc_distances','null_bary_dist_types','null_fom'])"
   ],
   "id": "f6bbf5636e96711e",
   "outputs": [],
   "execution_count": null
  },
  {
   "metadata": {},
   "cell_type": "markdown",
   "source": "Just after 07:01:40, all four spacecraft are seeing low fields, so let's zoom in on that:",
   "id": "e8e6e065cb307880"
  },
  {
   "metadata": {},
   "cell_type": "code",
   "source": [
    "timespan('2023-03-24/07:01:40',10,'seconds')\n",
    "options('null_fom','yrange',[0.0,1.0])\n",
    "options('null_sc_distances','yrange',[0.0, 100.0])\n",
    "options('null_bary_dist','yrange',[0.0,100.0])\n",
    "tplot(['mms1_fgm_b_gse_brst_l2','mms2_fgm_b_gse_brst_l2','mms3_fgm_b_gse_brst_l2','mms4_fgm_b_gse_brst_l2','null_sc_distances','null_bary_dist','null_bary_dist_types','null_fom'])"
   ],
   "id": "efd974f47a0c247",
   "outputs": [],
   "execution_count": null
  },
  {
   "metadata": {},
   "cell_type": "markdown",
   "source": "Looking at the quality variables (lower=better), and null_sc and null_barycenter distances, it appears that several magnetic nulls were reliably detected and classified, perhaps even enclosed by the MMS tetrahedron, around 41-42 and 46 seconds after 07:01 UT.   \n",
   "id": "ccc16334e097fb01"
  },
  {
   "cell_type": "markdown",
   "source": "Now we'll look at another time interval starting at 07:07:00:",
   "metadata": {
    "collapsed": false
   },
   "id": "322f340ca01d6308"
  },
  {
   "cell_type": "code",
   "source": [
    "timespan('2023-03-24/07:07:00',60,'seconds')\n",
    "options('null_fom','yrange',[0.0,0.5])\n",
    "options('null_sc_distances','yrange',[0.0, 1000.0])\n",
    "options('null_bary_dist','yrange',[0.0,1000.0])\n",
    "tplot(['null_sc_distances','null_bary_dist_types','null_fom'])"
   ],
   "metadata": {
    "collapsed": false
   },
   "id": "ce076048455dd38d",
   "outputs": [],
   "execution_count": null
  },
  {
   "cell_type": "markdown",
   "source": "Now we'll look at the time interval 07:07:20 - 07:07:25:",
   "metadata": {
    "collapsed": false
   },
   "id": "33f4b620269ed66a"
  },
  {
   "cell_type": "code",
   "source": [
    "timespan('2023-03-24/07:07:20',5,'seconds')\n",
    "tplot(['null_sc_distances','null_bary_dist_types','null_fom'])"
   ],
   "metadata": {
    "collapsed": false
   },
   "id": "f12e436480ec1ec6",
   "outputs": [],
   "execution_count": null
  },
  {
   "metadata": {},
   "cell_type": "markdown",
   "source": "Between 21-15 seconds after 7:07, we seem to have a reliable detection of a Type A radial null at a distance of about 500 km from the formation.  This coincides with the magnetic reconnection signature observed in MMS-1 at this time: anti-parallel magnetic field lines, fast ion flows and flow reversals.",
   "id": "639c2fe021d8f8cd"
  }
 ],
 "metadata": {
  "kernelspec": {
   "display_name": "Python 3",
   "language": "python",
   "name": "python3"
  },
  "language_info": {
   "codemirror_mode": {
    "name": "ipython",
    "version": 2
   },
   "file_extension": ".py",
   "mimetype": "text/x-python",
   "name": "python",
   "nbconvert_exporter": "python",
   "pygments_lexer": "ipython2",
   "version": "2.7.6"
  }
 },
 "nbformat": 4,
 "nbformat_minor": 5
}
