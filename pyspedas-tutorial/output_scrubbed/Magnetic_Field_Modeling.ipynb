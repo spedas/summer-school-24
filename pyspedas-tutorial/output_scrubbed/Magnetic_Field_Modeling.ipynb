{
 "cells": [
  {
   "metadata": {},
   "cell_type": "markdown",
   "source": [
    "# Modeling Earth's Magnetic Field #\n",
    "\n",
    "This notebook explores the PySPEDAS routines for working with magnetic field models, using the PySPEDAS interface to the PyHC geopack package.\n"
   ],
   "id": "c59ce6446d464384"
  },
  {
   "metadata": {},
   "cell_type": "code",
   "source": [
    "import os\n",
    "os.environ[\"SPEDAS_DATA_DIR\"] = \"/home/jovyan/scratch_space/pyspedas_data\"\n"
   ],
   "id": "34f9b85f33995de2",
   "outputs": [],
   "execution_count": null
  },
  {
   "metadata": {},
   "cell_type": "markdown",
   "source": "As usual, we'll import pyspedas, pyspedas, and pyspedas.tplot.   The interface wrapper routines to the geopack library are in the pyspedas.geopack module.",
   "id": "379be0f16119c1e4"
  },
  {
   "metadata": {},
   "cell_type": "code",
   "source": [
    "import pyspedas\n",
    "import pyspedas\n",
    "from pyspedas import tplot\n",
    "from pyspedas.geopack import tt89"
   ],
   "id": "5ab85140c699f383",
   "outputs": [],
   "execution_count": null
  },
  {
   "metadata": {},
   "cell_type": "code",
   "source": [
    "# Set a time range and load some THEMIS-A position data to use when generating the field models\n",
    "\n",
    "trange = ['2007-03-23', '2007-03-24']\n",
    "pyspedas.themis.state(probe='a', trange=trange, varnames=[\"tha_pos_gsm\"])\n",
    "tplot('tha_pos_gsm')"
   ],
   "id": "589c8a262b638048",
   "outputs": [],
   "execution_count": null
  },
  {
   "metadata": {},
   "cell_type": "markdown",
   "source": "Tsyganenko 89 (T89) model",
   "id": "bbd083c6c830cba3"
  },
  {
   "metadata": {},
   "cell_type": "code",
   "source": [
    "# Generate the T89 model with default value for the Kp parameter\n",
    "\n",
    "tt89('tha_pos_gsm')\n",
    "\n",
    "# Output will have a _bt89 suffix\n",
    "\n",
    "tplot(['tha_pos_gsm','tha_pos_gsm_bt89'])"
   ],
   "id": "85d090006bbe05e2",
   "outputs": [],
   "execution_count": null
  },
  {
   "metadata": {},
   "cell_type": "markdown",
   "source": [
    "IGRF-only model\n",
    "\n",
    "Internally, many of the geopack routines operate by generating a dipole model with the standard IGRF coefficients, then adding in some model-specific perturbations.\n",
    "\n",
    "You can get just the IGRF part by specifying igrf_only=True in tt89()"
   ],
   "id": "2a4cd742096f9ae3"
  },
  {
   "metadata": {},
   "cell_type": "code",
   "source": [
    "\n",
    "tt89('tha_pos_gsm',igrf_only=True, suffix='_igrf') # The default _bt89 suffix also gets added\n",
    "tplot(['tha_pos_gsm', 'tha_pos_gsm_bt89_igrf'])"
   ],
   "id": "ecc17d875efa6c6e",
   "outputs": [],
   "execution_count": null
  },
  {
   "metadata": {},
   "cell_type": "markdown",
   "source": "Subtract the IGRF-only field from the T89 field to see the T89 perturbations",
   "id": "6eda474853da286b"
  },
  {
   "metadata": {},
   "cell_type": "code",
   "source": [
    "pyspedas.subtract('tha_pos_gsm_bt89','tha_pos_gsm_bt89_igrf',newname='bt89_perturbations')\n",
    "tplot('bt89_perturbations')"
   ],
   "id": "e6387052aeb15439",
   "outputs": [],
   "execution_count": null
  },
  {
   "metadata": {},
   "cell_type": "markdown",
   "source": [
    "Pass a specific iopt parameter value to the T89 model.  \n",
    "\n",
    "iopt=7 corresponds to Kp > 6"
   ],
   "id": "ff1280fd99d2bbb6"
  },
  {
   "metadata": {},
   "cell_type": "code",
   "source": [
    "tt89('tha_pos_gsm',iopt=7,suffix='_iopt7')\n",
    "\n",
    "# And let's take the difference from the model with the default iopt\n",
    "\n",
    "pyspedas.subtract('tha_pos_gsm_bt89', 'tha_pos_gsm_bt89_iopt7', 'iopt_diff')\n",
    "tplot(['tha_pos_gsm_bt89_iopt7','iopt_diff'])"
   ],
   "id": "8b49884faf28291",
   "outputs": [],
   "execution_count": null
  },
  {
   "metadata": {},
   "cell_type": "markdown",
   "source": [
    "Tsyganenko 96 'T96' model\n",
    "\n",
    "This model is a bit more complex than T89, and takes more input parameters.  The `tt96()` routine expects the model parameters to be supplied as a tplot variable, with the same cadence as the input times/positions, with the data values being 10-element 'parmod' arrays with the input parameters packed in a certain order (after the original FORTRAN GEOPACK library convention).  We'll use a helper routine to load the Dst storm-time index from the Kyoto World Data Center, and the other parameters from the OMNI data set, and pack them into a parmod tplot variable.\n",
    "\n"
   ],
   "id": "5cf7cf9739fa5b6"
  },
  {
   "metadata": {},
   "cell_type": "code",
   "source": [
    "from pyspedas.geopack import get_tsy_params\n",
    "from pyspedas import join_vec, time_double\n",
    "\n",
    "def get_params(trange):\n",
    "    support_trange = [time_double(trange[0])-60*60*24, \n",
    "                      time_double(trange[1])+60*60*24]\n",
    "    pyspedas.kyoto.dst(trange=support_trange)\n",
    "    pyspedas.omni.data(trange=support_trange)\n",
    "    join_vec(['BX_GSE', 'BY_GSM', 'BZ_GSM']) # Not a typo!  OMNI doesn't return a BX_GSM variable!  (We don't use that component anyway)\n",
    "    return get_tsy_params('kyoto_dst',\n",
    "                    'BX_GSE-BY_GSM-BZ_GSM_joined',\n",
    "                    'proton_density',\n",
    "                    'flow_speed',\n",
    "                    model='t96',\n",
    "                    pressure_tvar='Pressure',\n",
    "                    g_variables=None,\n",
    "                    speed=True)\n",
    "\n",
    "parmod = get_params(trange)\n",
    "print(parmod) # in this case, t96_par"
   ],
   "id": "6c1ad8a3059bd5e8",
   "outputs": [],
   "execution_count": null
  },
  {
   "metadata": {},
   "cell_type": "markdown",
   "source": "Now we're ready to generate T96 model data.",
   "id": "8cf88673e0d4b85d"
  },
  {
   "metadata": {},
   "cell_type": "code",
   "source": [
    "from pyspedas.geopack import tt96\n",
    "\n",
    "# The model parameters should be supplied at the same timestamps as the input positions, so we do some interpolation:\n",
    "\n",
    "pyspedas.tinterpol(parmod,'tha_pos_gsm',newname='parmod_interp')\n",
    "\n",
    "# The original parmod had extra padding around the time range of interest, and\n",
    "# there's no guarantee that the timestamps lined up as needed\n",
    "\n",
    "tplot([parmod,'parmod_interp'])\n",
    "tt96('tha_pos_gsm', parmod='parmod_interp')\n",
    "tplot('tha_pos_gsm_bt96')"
   ],
   "id": "873c4c06fd90827c",
   "outputs": [],
   "execution_count": null
  },
  {
   "metadata": {},
   "cell_type": "markdown",
   "source": "Finally, we'll look at the difference between the T89 and T96 model fields.",
   "id": "78e3b828b24e9331"
  },
  {
   "metadata": {},
   "cell_type": "code",
   "source": [
    "pyspedas.subtract('tha_pos_gsm_bt96', 'tha_pos_gsm_bt89', newname='t96_t89_diff')\n",
    "pyspedas.options('t96_t89_diff','ytitle','T96-T89')\n",
    "tplot('t96_t89_diff')"
   ],
   "id": "8c2acdfae63d0cef",
   "outputs": [],
   "execution_count": null
  },
  {
   "metadata": {},
   "cell_type": "code",
   "source": "",
   "id": "b9da8506502fcba4",
   "outputs": [],
   "execution_count": null
  }
 ],
 "metadata": {
  "kernelspec": {
   "display_name": "Python 3",
   "language": "python",
   "name": "python3"
  },
  "language_info": {
   "codemirror_mode": {
    "name": "ipython",
    "version": 2
   },
   "file_extension": ".py",
   "mimetype": "text/x-python",
   "name": "python",
   "nbconvert_exporter": "python",
   "pygments_lexer": "ipython2",
   "version": "2.7.6"
  }
 },
 "nbformat": 4,
 "nbformat_minor": 5
}
