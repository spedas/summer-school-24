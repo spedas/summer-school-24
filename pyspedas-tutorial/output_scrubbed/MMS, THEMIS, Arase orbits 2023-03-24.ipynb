{
 "cells": [
  {
   "metadata": {},
   "cell_type": "markdown",
   "source": [
    "The THEMIS, MMS, and Arase missions provide useful data sets for studying geomagnetic storms.\n",
    "\n",
    "How were their orbits oriented during the 2023-03-24 event?\n",
    "\n",
    "We start by loading ephemeris data for the ERG satellite and the THEMIS and MMS constellations.\n"
   ],
   "id": "856a6d54bd85afd5"
  },
  {
   "metadata": {},
   "cell_type": "markdown",
   "source": "We need to install a specific version of matplotlib, to work around a version conflict in the environment",
   "id": "f35b40a0ed3832dc"
  },
  {
   "metadata": {},
   "cell_type": "code",
   "outputs": [],
   "execution_count": null,
   "source": "!pip install matplotlib==3.6.3",
   "id": "7494372dda474826"
  },
  {
   "metadata": {},
   "cell_type": "markdown",
   "source": "We'll set SPEDAS_DATA_DIR to take advantage of some pre-cached data",
   "id": "7cad07e8471b5964"
  },
  {
   "metadata": {},
   "cell_type": "code",
   "source": [
    "import os\n",
    "os.environ[\"SPEDAS_DATA_DIR\"] = \"/home/jovyan/scratch_space/pyspedas_data\"\n"
   ],
   "id": "96118b8fab5dbf8",
   "outputs": [],
   "execution_count": null
  },
  {
   "metadata": {},
   "cell_type": "code",
   "outputs": [],
   "execution_count": null,
   "source": [
    "import pyspedas\n",
    "import pyspedas\n",
    "from pyspedas import tplot\n",
    "\n",
    "trange=['2023-03-24','2023-03-25']\n",
    "\n",
    "# THEMIS orbits come from the 'state' datatype\n",
    "# We will use GSE coordinates for the plots we'll make.\n",
    "\n",
    "thm_state_vars = pyspedas.themis.state(probe=['a', 'b', 'c', 'd', 'e'], trange=trange, varformat='*_pos_gse')\n",
    "\n",
    "tplot(thm_state_vars)"
   ],
   "id": "9feee4349f2961cd"
  },
  {
   "metadata": {},
   "cell_type": "code",
   "outputs": [],
   "execution_count": null,
   "source": [
    "# Now we'll load orbits for the four MMS probes\n",
    "\n",
    "mms_state_vars = pyspedas.projects.mms.mms_load_state(trange=trange,probe=['1','2','3','4'], datatypes='pos')\n",
    "tplot(mms_state_vars)"
   ],
   "id": "ca856d8d11bad2e5"
  },
  {
   "metadata": {},
   "cell_type": "markdown",
   "source": [
    "The MMS orbit data is in ECI coordinates, so we'll need to transform to GSE.  \n",
    "\n",
    "The MMS MEC (Mission Ephemeris and Coordinates) data set includes quaternions for performing various coordinate transformations.  We probably could have\n",
    "done this with pyspedas.cotrans (since ECI is more-or-less a synonym for GEI), but for this example we'll stay within the MMS ecosystem. That's good practice anyway, especially if you're trying to reproduce or compare to results produced by the MMS SOC."
   ],
   "id": "82437328c21a1c4a"
  },
  {
   "metadata": {},
   "cell_type": "code",
   "source": [
    "pyspedas.projects.mms.mec(trange=['2023-03-24/07:00','2023-03-24/08:00'], probe=['1','2','3','4'])\n",
    "\n",
    "for i in ('1','2','3','4'): \n",
    "    pyspedas.projects.mms.mms_qcotrans('mms'+i+'_defeph_pos','mms'+i+'_defeph_pos_gse',in_coord='eci',out_coord='gse')\n",
    "\n",
    "mms_gse_vars = [mms_state_vars[i] + '_gse' for i in range(4)]\n",
    "tplot(mms_gse_vars)"
   ],
   "id": "a3ed2680c2daaba1",
   "outputs": [],
   "execution_count": null
  },
  {
   "metadata": {},
   "cell_type": "markdown",
   "source": "Now we'll load orbit data for Arase (ERG)",
   "id": "eea938b7ffb0ff8f"
  },
  {
   "metadata": {},
   "cell_type": "code",
   "source": [
    "erg_orb_vars = pyspedas.erg.orb(trange=trange, varformat='*pos_gse')\n",
    "\n",
    "tplot(erg_orb_vars)"
   ],
   "id": "6f0a7b6ffb67c738",
   "outputs": [],
   "execution_count": null
  },
  {
   "metadata": {},
   "cell_type": "markdown",
   "source": [
    "We would also like to see where the spacecraft are with respect to the magnetopause.\n",
    "PySPEDAS implements a couple different magnetopause models.  We'll use the T96 model,\n",
    "which takes arrays of X, Y, Z coordinates, and a model parameter P_dyn, the dynamic pressure\n",
    "of the solar wind.\n",
    " \n",
    "P_dyn can be obtained from the OMNIweb data set.  Let's take a look:"
   ],
   "id": "35724eda9888770b"
  },
  {
   "metadata": {},
   "cell_type": "markdown",
   "source": "",
   "id": "f5d28a5aa60d95cb"
  },
  {
   "metadata": {},
   "cell_type": "code",
   "source": [
    "pyspedas.omni.data(trange=trange)\n",
    "tplot('Pressure')"
   ],
   "id": "49979aa94d1b242e",
   "outputs": [],
   "execution_count": null
  },
  {
   "metadata": {},
   "cell_type": "markdown",
   "source": [
    "On that date, the OMNIWeb solar wind data shows wide variation in the dynamic pressure, with\n",
    "values as high as 14 nanoPascals in the early part of the day, settling down to a more typical\n",
    "values around 3.0 later in the day.   We'll generate two model boundaries, one with P_dyn at 14.0, and another at 3.0, \n",
    "to show the effect of the pressure on the magnetopause location.\n",
    "\n",
    "We'll use the THEMIS-A spacecraft positions for 2023-03-24.\n",
    "The mpause_t96() routine operates in GSM coordinates, using units of Earth radii.  We can use the GSE position variable we've already loaded, and call pyspedas.cotrans to convert it to GSM coordinates.\n",
    "\n",
    "The model returns three 90-element arrays representing the X, Y, and Z components of the magnetopause\n",
    "boundary coordinates. For each input position, the model returns a flag indicating whether the input\n",
    "was inside or outside the magnetopause, and the distance to the nearest point on the magnetopause.  We'll only be using the \n",
    "boundary coordinates."
   ],
   "id": "95a10eb474d1a688"
  },
  {
   "metadata": {},
   "cell_type": "markdown",
   "source": "",
   "id": "529d51e662fba7c7"
  },
  {
   "metadata": {},
   "cell_type": "code",
   "outputs": [],
   "execution_count": null,
   "source": [
    "import numpy as np\n",
    "\n",
    "pyspedas.cotrans('tha_pos_gse', name_out='tha_pos_gsm', coord_in='GSE', coord_out='GSM')\n",
    "\n",
    "# Update the plot labels on the output variable to reflect the new coordinate system\n",
    "pyspedas.options('tha_pos_gsm','legend_names',['X, GSM', 'Y, GSM', 'Z, GSM'])\n",
    "tplot(['tha_pos_gse', 'tha_pos_gsm'])\n",
    "\n",
    "# The mpause_t96 routine takes array inputs rather than tplot variables, so we need to \n",
    "# pull them out of tha_pos_gsm using pyspedas.get_data()\n",
    "\n",
    "posdat = pyspedas.get_data('tha_pos_gsm')\n",
    "\n",
    "# We'll also get a copy of the metadata dictionary for tha_pos_gsm, which we can use to create additional tplot variables\n",
    "from copy import deepcopy\n",
    "posmeta = deepcopy(pyspedas.get_data('tha_pos_gsm',metadata=True))\n",
    "\n",
    "# And we need to convert to units of Earth radii\n",
    "\n",
    "re = 6378.0\n",
    "pos_gsm = posdat.y / re\n",
    "\n",
    "# Generate the magnetopause boundary coordinates, using the THEMIS position data and P_dyn=14.0\n",
    "\n",
    "xmgnp, ymgnp, zmgnp, id, distan = pyspedas.mpause_t96(\n",
    "        pd=14.0, xgsm=pos_gsm[:, 0], ygsm=pos_gsm[:, 1], zgsm=pos_gsm[:, 2])\n",
    "\n",
    "# We only get 90 points for the magnetopause boundary, so we can't match them up with\n",
    "# the original times from the s/c positions. But we would still like to make tplot variables,\n",
    "# so we'll just repeat the first timestamp for all the boundary points.\n",
    "\n",
    "mp_dat = np.stack([xmgnp, ymgnp, zmgnp], axis=1)\n",
    "mp_times = np.repeat(posdat.times[0],len(mp_dat))\n",
    "pyspedas.store_data('mpause_gsm_hi',data={'x':mp_times, 'y':mp_dat},attr_dict=posmeta)\n",
    "\n",
    "# Now we'll repeat the process using P_dyn = 3.0\n",
    "xmgnp, ymgnp, zmgnp, id, distan = pyspedas.mpause_t96(\n",
    "        pd=3.0, xgsm=pos_gsm[:, 0], ygsm=pos_gsm[:, 1], zgsm=pos_gsm[:, 2])\n",
    "\n",
    "mp_dat = np.stack([xmgnp, ymgnp, zmgnp], axis=1)\n",
    "pyspedas.store_data('mpause_gsm_low',data={'x':mp_times, 'y':mp_dat},attr_dict=posmeta)\n",
    "\n",
    "# Transform the magnetopause boundary positions to GSE coordinates, to be consistent with the\n",
    "# orbit plots we will make.\n",
    "\n",
    "pyspedas.cotrans('mpause_gsm_hi', name_out='mpause_gse_hi', coord_in='GSM', coord_out='GSE')\n",
    "pyspedas.cotrans('mpause_gsm_low', name_out='mpause_gse_low', coord_in='GSM', coord_out='GSE')\n",
    "\n",
    "# We won't bother plotting the boundary coordinates with tplot(), since there's only a single repeated timestamp"
   ],
   "id": "6b48ab7f3ab02a69"
  },
  {
   "metadata": {},
   "cell_type": "markdown",
   "source": [
    "Now we're ready to make some orbit plots!  pyspedas doesn't (yet) have a nice tool for\n",
    "projecting 3D tplot variables onto 2D plots to trace out an orbit, so we'll do this\n",
    "directly in matplotlib."
   ],
   "id": "8e9f8a3ed205c597"
  },
  {
   "metadata": {},
   "cell_type": "code",
   "outputs": [],
   "execution_count": null,
   "source": [
    "import matplotlib.pyplot as plt\n",
    "from pyspedas import get_data\n",
    "import os\n",
    "\n",
    "# Set the plot size\n",
    "\n",
    "xsize = 8.0\n",
    "ysize = 8.0\n",
    "\n",
    "# The pyspedas.projects.mms module contains a nice PNG of the earth that we can add to our orbit plots.\n",
    "# We get the path to the pyspedas.projects.mms directory, and from there we can find the PNG.\n",
    "\n",
    "from pyspedas.projects.mms import __file__ as mmsinitfile\n",
    "mms_init_file_path = os.path.realpath(mmsinitfile)\n",
    "mms_parent_dir = os.path.dirname(mms_init_file_path)\n",
    "png_path = mms_parent_dir + '/mec/earth_polar1.png'\n",
    "im = plt.imread(png_path)\n",
    "\n",
    "# We'll generate three plots, showing the orbits in the XY, XZ, and YZ planes in GSE coordinates\n",
    "# For each plot, we'll set consistent axis ranges and aspect ratios, and add the Earth image\n",
    "# at the origin.\n",
    "\n",
    "# XY plane: looking down from above the north pole\n",
    "xyfig, xyaxis = plt.subplots(sharey=True, sharex=True, figsize=(xsize, ysize))\n",
    "xyaxis.set_aspect('equal')\n",
    "xyaxis.set_xlim([-60,60])\n",
    "xyaxis.set_ylim([-60,60])\n",
    "xyaxis.imshow(im, extent=(-1, 1, -1, 1))\n",
    "xyaxis.set_xlabel('GSE X Position, Re')\n",
    "xyaxis.set_ylabel('GSE Y Position, Re')\n",
    "\n",
    "# XZ plane: looking from the side in the ecliptic plane\n",
    "xzfig, xzaxis = plt.subplots(sharey=True, sharex=True, figsize=(xsize, ysize))\n",
    "xzaxis.set_aspect('equal')\n",
    "xzaxis.set_xlim([-60,60])\n",
    "xzaxis.set_ylim([-60,60])\n",
    "xzaxis.imshow(im, extent=(-1, 1, -1, 1))\n",
    "xzaxis.set_xlabel('GSE X Position, Re')\n",
    "xzaxis.set_ylabel('GSE Z Position, Re')\n",
    "\n",
    "# YZ plane: looking from the Sun towards Earth\n",
    "yzfig, yzaxis = plt.subplots(sharey=True, sharex=True, figsize=(xsize, ysize))\n",
    "yzaxis.set_aspect('equal')\n",
    "yzaxis.set_xlim([-60,60])\n",
    "yzaxis.set_ylim([-60,60])\n",
    "yzaxis.imshow(im, extent=(-1, 1, -1, 1))\n",
    "yzaxis.set_xlabel('GSE Y Position, Re')\n",
    "yzaxis.set_ylabel('GSE Z Position, Re')\n",
    "\n",
    "\n",
    "# Convert THEMIS and MMS positions to units of Earth radii, keeping the same variable names\n",
    "\n",
    "for v in thm_state_vars:\n",
    "    pyspedas.tkm2re(v, newname=v)\n",
    "    \n",
    "for v in mms_state_vars:\n",
    "    pyspedas.tkm2re(v, newname=v)\n",
    "\n",
    "# ERG positions are already in Re!\n",
    "\n",
    "# Make master lists of orbit variables and colors (red for THEMIS, blue for MMS, green for ERG)\n",
    "probe_vars = []\n",
    "probe_cols = []\n",
    "\n",
    "probe_vars.extend(thm_state_vars)\n",
    "probe_cols.extend(['r', 'r', 'r', 'r', 'r'])\n",
    "\n",
    "probe_vars.extend(mms_state_vars)\n",
    "probe_cols.extend(['b', 'b', 'b', 'b'])\n",
    "\n",
    "probe_vars.extend(erg_orb_vars)\n",
    "probe_cols.extend(['g'])\n",
    "\n",
    "# For each variable, project the 3-D orbit data onto three 2-D plots\n",
    "\n",
    "for var,col in zip(probe_vars,probe_cols):\n",
    "    d = get_data(var)\n",
    "    # We'll ignore d.times, and only look at the position vectors d.y[]\n",
    "    xyaxis.plot(d.y[:, 0], d.y[:, 1],color=col)\n",
    "    xzaxis.plot(d.y[:, 0], d.y[:, 2],color=col)\n",
    "    yzaxis.plot(d.y[:, 1], d.y[:, 2],color=col)\n",
    "\n",
    "# We want to label the lines on the XY orbit plot, but we have several probes for the THEMIS\n",
    "# and MMS constellations.  To avoid multiple legend entries, rather than specifying labels\n",
    "# in the plot loop above, we'll just make a few plot calls with empty lists and the appropriate\n",
    "# colors and labels.\n",
    "\n",
    "xyaxis.plot([], [], color='r',label='THEMIS')\n",
    "xyaxis.plot([], [], color='b',label='MMS')\n",
    "xyaxis.plot([], [], color='g',label='ERG')\n",
    "\n",
    "# Get the data values for the high-pressure magnetopause boundary and plot on the XY plane.\n",
    "mp_dat = pyspedas.get_data('mpause_gse_hi')\n",
    "xyaxis.plot(mp_dat.y[:,0],mp_dat.y[:,1],color='k',linestyle='solid', label=\"T96 magnetopause, P_dyn = 14 nPa\")\n",
    "\n",
    "# Get the data values for the low-pressure magnetopause boundary and plot on the XY plane.\n",
    "mp_dat = pyspedas.get_data('mpause_gse_low')\n",
    "xyaxis.plot(mp_dat.y[:,0],mp_dat.y[:,1],color='k',linestyle='dotted', label='T96 magnetopause, P_dyn = 3 nPa')\n",
    "\n",
    "# Place the legend at the lower right where it won't cover anything interesting\n",
    "xyaxis.legend(loc='lower right')\n",
    "\n",
    "# Show the plots!\n",
    "\n",
    "plt.show()"
   ],
   "id": "ec26f77895af00cd"
  },
  {
   "metadata": {},
   "cell_type": "code",
   "outputs": [],
   "execution_count": null,
   "source": "",
   "id": "999e65bab120df44"
  }
 ],
 "metadata": {
  "kernelspec": {
   "display_name": "Python 3",
   "language": "python",
   "name": "python3"
  },
  "language_info": {
   "codemirror_mode": {
    "name": "ipython",
    "version": 2
   },
   "file_extension": ".py",
   "mimetype": "text/x-python",
   "name": "python",
   "nbconvert_exporter": "python",
   "pygments_lexer": "ipython2",
   "version": "2.7.6"
  }
 },
 "nbformat": 4,
 "nbformat_minor": 5
}
